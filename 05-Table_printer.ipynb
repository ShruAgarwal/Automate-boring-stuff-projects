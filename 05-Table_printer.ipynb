{
  "nbformat": 4,
  "nbformat_minor": 0,
  "metadata": {
    "colab": {
      "name": "05. Table_printer.ipynb",
      "provenance": [],
      "collapsed_sections": []
    },
    "kernelspec": {
      "name": "python3",
      "display_name": "Python 3"
    }
  },
  "cells": [
    {
      "cell_type": "markdown",
      "metadata": {
        "id": "U2u6u7rjhTMA"
      },
      "source": [
        "## **Table Printer**  *(CH 6 : Manipulating Strings)*"
      ]
    },
    {
      "cell_type": "markdown",
      "metadata": {
        "id": "2BnytoSkh_J0"
      },
      "source": [
        "### **About the task --->**\n",
        "\n",
        "1. Write a function named **printTable()** that takes a list of lists consisting of strings\n",
        "\n",
        "2. Then display it in a well-organized table with each column right-justified.\n",
        "\n",
        "3. Assume that all the inner lists will contain the same number of strings"
      ]
    },
    {
      "cell_type": "code",
      "metadata": {
        "id": "grISsX1fhMgO",
        "colab": {
          "base_uri": "https://localhost:8080/",
          "height": 102
        },
        "outputId": "4a25c8c0-1831-42e8-94a2-52ad3b585b72"
      },
      "source": [
        "# List of lists (with strings in it!)\n",
        "tableData = [['FRUITS', 'apples', 'oranges', 'cherry', 'banana'],\n",
        "             ['PERSONS', 'Alice', 'Bob', 'Carol', 'David'],\n",
        "             ['ANIMS','puppies','horses', 'moose', 'goose']]\n",
        "\n",
        "def printTable():\n",
        "\n",
        "  # For iterating over each lists on a list\n",
        "  for x, y, z in zip(*tableData):\n",
        "    print(f'{x}  {y}  {z}')\n",
        "\n",
        "\n",
        "printTable() "
      ],
      "execution_count": null,
      "outputs": [
        {
          "output_type": "stream",
          "text": [
            "FRUITS  PERSONS  ANIMS\n",
            "apples  Alice  puppies\n",
            "oranges  Bob  horses\n",
            "cherry  Carol  moose\n",
            "banana  David  goose\n"
          ],
          "name": "stdout"
        }
      ]
    }
  ]
}