{
  "nbformat": 4,
  "nbformat_minor": 0,
  "metadata": {
    "language_info": {
      "name": "python",
      "version": "3.7.6",
      "mimetype": "text/x-python",
      "codemirror_mode": {
        "name": "ipython",
        "version": 3
      },
      "pygments_lexer": "ipython3",
      "nbconvert_exporter": "python",
      "file_extension": ".py"
    },
    "kernelspec": {
      "name": "python3",
      "display_name": "Python 3",
      "language": "python"
    },
    "colab": {
      "name": "04. Fantasy_game_inventory.ipynb",
      "provenance": [],
      "collapsed_sections": []
    }
  },
  "cells": [
    {
      "cell_type": "markdown",
      "metadata": {
        "id": "GvVrpqit_nam"
      },
      "source": [
        "# **Fantasy Game Inventory** (*CH 5 : Dictionaries*)\n",
        "\n",
        "## *Description --*\n",
        "You are creating a fantasy video game. The data structure to model the\n",
        "player’s inventory will be a dictionary where the keys are string values\n",
        "describing the item in the inventory and the value is an integer value detailing\n",
        "how many of that item the player has. \n",
        "\n",
        "For example, the dictionary value\n",
        "{'rope': 1, 'torch': 6, 'gold coin': 42, 'dagger': 1, 'arrow': 12} means the\n",
        "player has 1 rope, 6 torches, 42 gold coins, and so on.\n",
        "\n"
      ]
    },
    {
      "cell_type": "markdown",
      "source": [
        "## **About the Task --->**\n",
        "1. Write a function named displayInventory() that would take any possible\n",
        "   “inventory” and display it like the following:\n",
        "---------------------------------------------------------------------------\n",
        "Inventory:\n",
        "\n",
        "12 arrow\n",
        "\n",
        "42 gold coin\n",
        "\n",
        "1 rope\n",
        "\n",
        "6 torch\n",
        "\n",
        "1 dagger\n",
        "\n",
        "Total number of items: 62\n",
        "\n",
        "*Hint: You can use a for loop to loop through all the keys in a dictionary.*\n",
        "\n",
        "- Imagine that a vanquished dragon’s loot is represented as a list of strings\n",
        "   like this:\n",
        "\n",
        "   dragonLoot = ['gold coin', 'dagger', 'gold coin', 'gold coin', 'ruby']\n",
        "\n",
        "2. Write a function named addToInventory(inventory, addedItems), where the\n",
        "   inventory parameter is a dictionary representing the player’s inventory (like\n",
        "   in the previous project) and the addedItems parameter is a list like  dragonLoot.\n",
        "\n",
        "3. The addToInventory() function should return a dictionary that represents the\n",
        "updated inventory. Note that the addedItems list can contain multiples of the\n",
        "same item.\n"
      ],
      "metadata": {
        "id": "jlLlj-z7beTq"
      }
    },
    {
      "cell_type": "code",
      "metadata": {
        "trusted": true,
        "id": "BdS1uP-Iw1WI",
        "colab": {
          "base_uri": "https://localhost:8080/",
          "height": 374
        },
        "outputId": "aba2135f-0195-4d23-a2b3-bd9328796c1c"
      },
      "source": [
        "# Materials initialized\n",
        "stuff = {'rope': 1, 'torch': 6, 'gold coin': 42, 'dagger': 1, 'arrow': 12}\n",
        "\n",
        "# Create a List of additions to be made effective in the materials listed above\n",
        "dragonLoot = ['gold coin', 'dagger', 'gold coin', 'gold coin', 'ruby', 'torch']\n",
        "\n",
        "\n",
        "\n",
        "# Function to display the materials and further changes in the materials\n",
        "\n",
        "def displayInventory(inventory, extras):\n",
        "    print(\"Inventory:\\n\")\n",
        "    for k, v in inventory.items():\n",
        "      print(f'{v} {k}')\n",
        "      item_total = sum(inventory.values())\n",
        "    print(\"\\nTotal number of items: {}\\n\\n\".format(item_total))\n",
        "\n",
        "    # Call addItems() for showing up the changes made\n",
        "    extras = addItems()\n",
        "\n",
        "    print('Inventory after some ADDITIONS:\\n')\n",
        "    for k1,v1 in extras.items():\n",
        "      print(f'{v1} {k1}')\n",
        "      new_total = sum(extras.values())\n",
        "    print(\"\\nTotal number of items (after ADDING): {}\".format(new_total))\n",
        "\n",
        "\n",
        "\n",
        "# Function to make changes in the stuff dict with adding some more of materials\n",
        "# and displaying them using displayInventory() function\n",
        "\n",
        "def addItems():\n",
        "  for item in dragonLoot:\n",
        "    if item in stuff:\n",
        "       stuff[item] += 1\n",
        "    else:\n",
        "      stuff[item] = 1\n",
        "  return stuff\n",
        "  \n",
        "\n",
        "# Final Check \n",
        "displayInventory(stuff, dragonLoot)"
      ],
      "execution_count": null,
      "outputs": [
        {
          "output_type": "stream",
          "text": [
            "Inventory:\n",
            "\n",
            "1 rope\n",
            "6 torch\n",
            "42 gold coin\n",
            "1 dagger\n",
            "12 arrow\n",
            "\n",
            "Total number of items: 62\n",
            "\n",
            "\n",
            "Inventory after some ADDITIONS:\n",
            "\n",
            "1 rope\n",
            "7 torch\n",
            "45 gold coin\n",
            "2 dagger\n",
            "12 arrow\n",
            "1 ruby\n",
            "\n",
            "Total number of items (after ADDING): 68\n"
          ],
          "name": "stdout"
        }
      ]
    }
  ]
}