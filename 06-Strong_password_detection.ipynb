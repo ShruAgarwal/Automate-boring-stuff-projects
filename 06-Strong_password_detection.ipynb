{
  "nbformat": 4,
  "nbformat_minor": 0,
  "metadata": {
    "colab": {
      "name": "06. Strong_password_detection.ipynb",
      "provenance": [],
      "collapsed_sections": []
    },
    "kernelspec": {
      "name": "python3",
      "display_name": "Python 3"
    }
  },
  "cells": [
    {
      "cell_type": "markdown",
      "metadata": {
        "id": "putVrtZLeIQz"
      },
      "source": [
        "## **Strong Password Detection** *(CH 7 : Pattern Matching with Regular Expressions)*"
      ]
    },
    {
      "cell_type": "markdown",
      "source": [
        "**About the Task --->**\n",
        "\n",
        "1. Write a function that uses regular expressions to make sure that when a     \n",
        "  password string is passed, it is STRONG!\n",
        "\n",
        "\n",
        "2. A strong password is defined as one that is --\n",
        "-  at least eight characters long\n",
        "- contains both uppercase and lowercase characters \n",
        "- has at least one digit. \n",
        "\n",
        "\n",
        "3. You may need to test the string against multiple regex patterns to validate  \n",
        "   its strength."
      ],
      "metadata": {
        "id": "MrNL5GCVXOYz"
      }
    },
    {
      "cell_type": "code",
      "metadata": {
        "id": "pfiDYaBNd40w"
      },
      "source": [
        "# RE MODULE HELPS TO FIND PATTERNS IN THE STRING\n",
        "import re\n",
        "\n",
        "# GETPASS MODULE HIDES THE STRING (here, Password) FROM OTHER USERS (EG: (...))\n",
        "import getpass\n",
        "\n",
        "\n",
        "# GREETING THE USER\n",
        "user = input('WELCOME, Your Name : ').capitalize()\n",
        "print(f'\\nHELLO {user}!')\n",
        "print('<<<<<<<----CREATE YOUR NEW PASSWORD & CHECK ITS SECURITY LEVEL BELOW---->>>>>>>')\n",
        "print('\\n\\n')\n",
        "\n",
        "# ASKING THE USER TO INPUT PASSWORD\n",
        "give_pwd = getpass.getpass(prompt='PASSWORD PLEASE!: ')\n",
        "\n",
        "\n",
        "\n",
        "# GOING THROUGH SEVERAL PATTERNS CHECK FOR DETECTING THE LEVEL OF PASSWORD :\n",
        "\n",
        "\n",
        "#CHECK_1 : Combination of atleast 8 or more words (both UP & LOW cases)\n",
        "# along with repetition of #,@ symbols and digits (more than one)\n",
        "if re.search(r'\\w{8,}#\\w+@\\d+#', give_pwd):\n",
        "  print('\\n<<<< ** YOU HAVE ENTERED A VERY STRONG PASSWORD! ** >>>>')\n",
        "\n",
        "\n",
        "\n",
        "#CHECK_2 : Combination of atleast 8 or more words (both UP & LOW cases)\n",
        "# along with repetition of # symbol, digits (more than one) and Spaces\n",
        "elif re.search(r'\\w{8,}#\\s+#\\w+\\d+', give_pwd):\n",
        "  print('\\n*** YOU HAVE ENTERED A STRONG PASSWORD! ***')\n",
        "\n",
        "\n",
        "\n",
        "#CHECK_3 : Combination of more than one word (both UP & LOW cases)\n",
        "# along with repetition of #,@ symbols and digits (more than one)\n",
        "elif re.search(r'\\w+@\\d+#',give_pwd):\n",
        "  print('\\n*^^^ YOU HAVE ENTERED AN AVERAGE PASSWORD ^^^*')\n",
        "\n",
        "\n",
        "\n",
        "# If any of the above checks doesn't match then print the below given message :\n",
        "else:\n",
        "  print('\\nYOU HAVE A WEAK PASSWORD!!!!!!')\n",
        "\n",
        "\n"
      ],
      "execution_count": null,
      "outputs": []
    }
  ]
}