{
  "nbformat": 4,
  "nbformat_minor": 0,
  "metadata": {
    "language_info": {
      "name": "python",
      "version": "3.7.6",
      "mimetype": "text/x-python",
      "codemirror_mode": {
        "name": "ipython",
        "version": 3
      },
      "pygments_lexer": "ipython3",
      "nbconvert_exporter": "python",
      "file_extension": ".py"
    },
    "kernelspec": {
      "name": "python3",
      "display_name": "Python 3",
      "language": "python"
    },
    "colab": {
      "name": "03. Comma_code.ipynb",
      "provenance": [],
      "collapsed_sections": []
    }
  },
  "cells": [
    {
      "cell_type": "markdown",
      "metadata": {
        "id": "-y0mP0SLDDrP"
      },
      "source": [
        "# **Comma Code** (*CH 4 : Lists*)\n",
        "\n",
        "\n",
        "## **About the Task --->**\n",
        "Write a function that \n",
        "- takes a list value as an argument\n",
        "- returns a string with all the items separated by a comma and a space\n",
        "- with \"and\" inserted before the last item. \n",
        "\n",
        "For example, spam = ['apples', 'bananas', 'tofu', 'cats'],  if we pass this list to the function then it would return --\n",
        "\n",
        "\"apples, bananas, tofu, and cats\". \n",
        "\n",
        "*NOTE : But your function should be able to work with any list value passed to it.*"
      ]
    },
    {
      "cell_type": "code",
      "metadata": {
        "id": "leYUf10GDDre",
        "outputId": "50f849a6-352e-4f54-98a6-7a1185cc6753"
      },
      "source": [
        "# Create a sample list with multiple string values\n",
        "\n",
        "spam = ['apples', 'mangoes', 'bananas', 'cheese', 'cats', 'dogs', 'gooses', 'rats', 'bags']\n",
        "\n",
        "\n",
        "\n",
        "# Print the list elements seperated by comma and a space(without brackets and inverted commas)\n",
        "# Also add 'and' before the last element of the list\n",
        "\n",
        "print(*spam[: -1], f'and {spam[-1]}', sep = ', ')"
      ],
      "execution_count": null,
      "outputs": [
        {
          "output_type": "stream",
          "text": [
            "apples, mangoes, bananas, cheese, cats, dogs, gooses, rats, and bags\n"
          ],
          "name": "stdout"
        }
      ]
    }
  ]
}