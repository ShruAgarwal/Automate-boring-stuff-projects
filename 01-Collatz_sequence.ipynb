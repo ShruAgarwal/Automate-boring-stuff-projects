{
  "cells": [
    {
      "cell_type": "markdown",
      "metadata": {
        "id": "DLnAnCqCDs59"
      },
      "source": [
        "# **The Collatz Sequence (*CH 3 : Functions*)**\n",
        "\n",
        "## **About the Task --->**\n",
        "\n",
        "1. Write a function named collatz() that has one parameter named number. \n",
        "- If number is even, then collatz() should print number // 2 and return this value.\n",
        "- If number is odd, then collatz() should print and return 3 * number + 1.\n",
        "\n",
        "2. Then write a program that lets the user type in an integer and that keeps\n",
        "calling collatz() on that number until the function returns the value 1.\n",
        "\n",
        "3. Remember to convert the return value from input() to an integer with\n",
        "the int() function; otherwise, it will be a string value.\n",
        "\n",
        "*Hint: An integer number is even if number % 2 == 0, and it’s odd if\n",
        "number % 2 == 1.*\n"
      ]
    },
    {
      "cell_type": "code",
      "execution_count": null,
      "metadata": {
        "colab": {
          "base_uri": "https://localhost:8080/",
          "height": 170
        },
        "id": "QDFYFID9Ds5_",
        "outputId": "b610bde6-b899-4d02-c160-4e64ac00141c",
        "trusted": true
      },
      "outputs": [
        {
          "name": "stdout",
          "output_type": "stream",
          "text": [
            "Input an integer value: 7\n",
            "22\n",
            "\n",
            "Input an integer value: 6\n",
            "3\n",
            "\n",
            "Input an integer value: 2\n",
            "1\n",
            "\n"
          ]
        }
      ],
      "source": [
        "def collatz(number):\n",
        "    \n",
        "    # Check if the number is negative(less than zero)\n",
        "    while number > 0:\n",
        "        \n",
        "        \n",
        "        # Return this result if number is even\n",
        "        if number % 2 == 0:\n",
        "            result = number // 2 \n",
        "            print('{}\\n'.format(result))\n",
        "            return result\n",
        "        \n",
        "        # Otherwise this result if number is odd\n",
        "        else:\n",
        "            result = 3 * number + 1 \n",
        "            print('{}\\n'.format(result))\n",
        "            return result\n",
        "    \n",
        "    \n",
        "    else:\n",
        "        print('Entered number is less than 0')\n",
        "    \n",
        "\n",
        "# Program to check if the result from the above function is equal to one \n",
        "# If not then iterating the main() until the value is 1\n",
        "def main():\n",
        "    while True:\n",
        "        \n",
        "        # Try-except block : To catch invalid input other than int() value \n",
        "        try:\n",
        "            number = int(input('Input an integer value: '))\n",
        "            value = collatz(number)\n",
        "            \n",
        "            if value == 1:\n",
        "                break\n",
        "        \n",
        "        except ValueError:\n",
        "            print('You didn\\'t enetered an integer!\\n')\n",
        "            \n",
        "    \n",
        "    else:\n",
        "        main()\n",
        "\n",
        "        \n",
        "if __name__==\"__main__\": \n",
        "    main() "
      ]
    }
  ],
  "metadata": {
    "colab": {
      "name": "01. Collatz_sequence.ipynb",
      "provenance": [],
      "collapsed_sections": []
    },
    "kernelspec": {
      "display_name": "Python 3",
      "language": "python",
      "name": "python3"
    },
    "language_info": {
      "codemirror_mode": {
        "name": "ipython",
        "version": 3
      },
      "file_extension": ".py",
      "mimetype": "text/x-python",
      "name": "python",
      "nbconvert_exporter": "python",
      "pygments_lexer": "ipython3",
      "version": "3.7.6"
    }
  },
  "nbformat": 4,
  "nbformat_minor": 0
}