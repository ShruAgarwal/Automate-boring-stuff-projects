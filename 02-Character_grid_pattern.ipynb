{
  "nbformat": 4,
  "nbformat_minor": 0,
  "metadata": {
    "colab": {
      "name": "02. Character_grid_pattern.ipynb",
      "provenance": [],
      "collapsed_sections": []
    },
    "kernelspec": {
      "name": "python3",
      "display_name": "Python 3"
    },
    "language_info": {
      "name": "python"
    }
  },
  "cells": [
    {
      "cell_type": "markdown",
      "source": [
        "# **Character Grid Pattern**  (*Lists*)\n",
        "\n",
        "## **About the Task --->**\n",
        "\n",
        "Say you have a list of lists where each value in the inner lists is a one-character\n",
        "string, like this:\n",
        "\n",
        "grid = [['.', '.', '.', '.', '.', '.'],\n",
        "\n",
        "['.', 'O', 'O', '.', '.', '.'],\n",
        "\n",
        "['O', 'O', 'O', 'O', '.', '.'],\n",
        "\n",
        "['O', 'O', 'O', 'O', 'O', '.'],\n",
        "\n",
        "['.', 'O', 'O', 'O', 'O', 'O'],\n",
        "\n",
        "['O', 'O', 'O', 'O', 'O', '.'],\n",
        "\n",
        "['O', 'O', 'O', 'O', '.', '.'],\n",
        "\n",
        "['.', 'O', 'O', '.', '.', '.'],\n",
        "\n",
        "['.', '.', '.', '.', '.', '.']]\n",
        "\n",
        "- You can think of grid[x][y] as being the character at the x- and\n",
        "y-coordinates of a “picture” drawn with text characters. \n",
        "\n",
        "- The (0, 0) origin will be in the upper-left corner, the x-coordinates increase going right, and w the y-coordinates increase going down.\n",
        "\n",
        "*Copy the previous grid value, and write code that uses it to print the image: (refer pg no. 103 for the image)*\n",
        "\n"
      ],
      "metadata": {
        "id": "MNkSIBpJeKAQ"
      }
    },
    {
      "cell_type": "code",
      "execution_count": 1,
      "metadata": {
        "colab": {
          "base_uri": "https://localhost:8080/"
        },
        "id": "ndzA9Djxddy-",
        "outputId": "47871e97-4373-46e0-a6cf-ccad578a4ee3"
      },
      "outputs": [
        {
          "output_type": "stream",
          "name": "stdout",
          "text": [
            ". . 0 0 . 0 0 . .\n",
            ". 0 0 0 0 0 0 0 .\n",
            ". 0 0 0 0 0 0 0 .\n",
            ". . 0 0 0 0 0 . .\n",
            ". . . 0 0 0 . . .\n",
            ". . . . 0 . . . .\n"
          ]
        }
      ],
      "source": [
        "sample = [['.','.','0','0','.','0','0','.','.'],\n",
        "          ['.','0','0','0','0','0','0','0','.'],\n",
        "          ['.','0','0','0','0','0','0','0','.'],\n",
        "          ['.','.','0','0','0','0','0','.','.'],\n",
        "          ['.','.','.','0','0','0','.','.','.'],\n",
        "          ['.','.','.','.','0','.','.','.','.']]\n",
        "\n",
        "\n",
        "# Printing each string value from list of lists (Here : HEART_SHAPE)\n",
        "\n",
        "i = 0   # Rows counter \n",
        "while i < 6:\n",
        "    print(*sample[i][:])\n",
        "    i += 1\n"
      ]
    }
  ]
}